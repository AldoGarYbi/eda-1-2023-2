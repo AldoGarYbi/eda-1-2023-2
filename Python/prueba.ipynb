{
 "cells": [
  {
   "cell_type": "markdown",
   "metadata": {},
   "source": []
  },
  {
   "cell_type": "code",
   "execution_count": 1,
   "metadata": {},
   "outputs": [
    {
     "ename": "ModuleNotFoundError",
     "evalue": "No module named 'matplotlib'",
     "output_type": "error",
     "traceback": [
      "\u001b[0;31m---------------------------------------------------------------------------\u001b[0m",
      "\u001b[0;31mModuleNotFoundError\u001b[0m                       Traceback (most recent call last)",
      "Cell \u001b[0;32mIn[1], line 1\u001b[0m\n\u001b[0;32m----> 1\u001b[0m \u001b[39mimport\u001b[39;00m \u001b[39mmatplotlib\u001b[39;00m\u001b[39m.\u001b[39;00m\u001b[39mpyplot\u001b[39;00m \u001b[39mas\u001b[39;00m \u001b[39mplt\u001b[39;00m\n\u001b[1;32m      2\u001b[0m \u001b[39mimport\u001b[39;00m \u001b[39mnumpy\u001b[39;00m \u001b[39mas\u001b[39;00m \u001b[39mnp\u001b[39;00m \n\u001b[1;32m      4\u001b[0m x \u001b[39m=\u001b[39m np\u001b[39m.\u001b[39mlinespace(\u001b[39m0\u001b[39m, \u001b[39m5\u001b[39m, \u001b[39m20\u001b[39m)\n",
      "\u001b[0;31mModuleNotFoundError\u001b[0m: No module named 'matplotlib'"
     ]
    }
   ],
   "source": [
    "import matplotlib.pyplot as plt\n",
    "import numpy as np \n",
    "\n",
    "x = np.linespace(0, 5, 20)\n",
    "print(x)\n",
    "\n",
    "fig, ax = plt.subplots(facecolor='w', edgecolor='k')\n",
    "ax.plot(x, np.sin(x), marker='o', color='r', linestyle='None')\n",
    "\n",
    "ax.grid(True)\n",
    "ax.set_xlabel('X')\n",
    "ax.set_ylabel('Y')\n",
    "ax.grid(True)\n",
    "ax.legend(\"y = sen(x)\")\n",
    "\n",
    "plt.title(\"Función senoidal\")\n",
    "plt.show()\n",
    "\n",
    "fig, ax = plt.subplots(facecolor='w', edgecolor='k')\n",
    "ax.plot(x, np.cos(x), marker='x', color='b', linestyle='None')\n",
    "\n",
    "ax.grid(True)\n",
    "ax.set_xlabel('X')\n",
    "ax.set_ylabel('Y')\n",
    "ax.grid(True)\n",
    "ax.legend(\"y = cos(x)\")\n",
    "\n",
    "plt.title(\"Función cosenoidal\")\n",
    "plt.show()\n",
    "\n",
    "x = np.linspace(0, 50, 50)\n",
    "fig, ax = plt.subplots(facecolor='w', edgecolor='k')\n",
    "ax.plot(x, np.log(x), marker='x', color='b', linestyle='None')\n",
    "\n",
    "ax.grid(True)\n",
    "ax.set_xlabel('X')\n",
    "ax.set_ylabel('Y')\n",
    "ax.grid(True)\n",
    "ax.legend(\"y = log(x)\")\n",
    "\n",
    "plt.title(\"Función logaritmo\")\n",
    "plt.show()\n",
    "\n",
    "fig, ax = plt.subplots(facecolor='w', edgecolor='k')\n",
    "ax.plot(x, x, marker='x', color='b', linestyle='None')\n",
    "\n",
    "ax.grid(True)\n",
    "ax.set_xlabel('X')\n",
    "ax.set_ylabel('Y')\n",
    "ax.grid(True)\n",
    "ax.legend(\"y = x\")\n",
    "\n",
    "plt.title(\"Función lineal\")\n",
    "plt.show()\n",
    "\n",
    "x.range(-20,20)\n",
    "y = [v*v for v in x]\n",
    "plt.plot(x, y)\n",
    "plt.show()\n",
    "\n",
    "x.range(-20,20)\n",
    "y = [2**v for v in x]\n",
    "plt.plot(x, y)\n",
    "plt.show()"
   ]
  }
 ],
 "metadata": {
  "kernelspec": {
   "display_name": "Python 3",
   "language": "python",
   "name": "python3"
  },
  "language_info": {
   "codemirror_mode": {
    "name": "ipython",
    "version": 3
   },
   "file_extension": ".py",
   "mimetype": "text/x-python",
   "name": "python",
   "nbconvert_exporter": "python",
   "pygments_lexer": "ipython3",
   "version": "3.8.16"
  },
  "orig_nbformat": 4
 },
 "nbformat": 4,
 "nbformat_minor": 2
}
